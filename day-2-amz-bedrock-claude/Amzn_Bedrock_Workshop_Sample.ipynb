{
  "cells": [
    {
      "cell_type": "code",
      "execution_count": 29,
      "metadata": {
        "colab": {
          "base_uri": "https://localhost:8080/"
        },
        "id": "blhr48tsp0Kt",
        "outputId": "32d87ddc-722f-4d17-cccc-6a3c4aa209ac"
      },
      "outputs": [
        {
          "name": "stdout",
          "output_type": "stream",
          "text": [
            "Requirement already satisfied: anthropic[bedrock] in /usr/local/lib/python3.10/dist-packages (0.42.0)\n",
            "Requirement already satisfied: anyio<5,>=3.5.0 in /usr/local/lib/python3.10/dist-packages (from anthropic[bedrock]) (3.7.1)\n",
            "Requirement already satisfied: distro<2,>=1.7.0 in /usr/local/lib/python3.10/dist-packages (from anthropic[bedrock]) (1.9.0)\n",
            "Requirement already satisfied: httpx<1,>=0.23.0 in /usr/local/lib/python3.10/dist-packages (from anthropic[bedrock]) (0.28.1)\n",
            "Requirement already satisfied: jiter<1,>=0.4.0 in /usr/local/lib/python3.10/dist-packages (from anthropic[bedrock]) (0.8.2)\n",
            "Requirement already satisfied: pydantic<3,>=1.9.0 in /usr/local/lib/python3.10/dist-packages (from anthropic[bedrock]) (2.10.3)\n",
            "Requirement already satisfied: sniffio in /usr/local/lib/python3.10/dist-packages (from anthropic[bedrock]) (1.3.1)\n",
            "Requirement already satisfied: typing-extensions<5,>=4.10 in /usr/local/lib/python3.10/dist-packages (from anthropic[bedrock]) (4.12.2)\n",
            "Requirement already satisfied: boto3>=1.28.57 in /usr/local/lib/python3.10/dist-packages (from anthropic[bedrock]) (1.35.90)\n",
            "Requirement already satisfied: botocore>=1.31.57 in /usr/local/lib/python3.10/dist-packages (from anthropic[bedrock]) (1.35.90)\n",
            "Requirement already satisfied: idna>=2.8 in /usr/local/lib/python3.10/dist-packages (from anyio<5,>=3.5.0->anthropic[bedrock]) (3.10)\n",
            "Requirement already satisfied: exceptiongroup in /usr/local/lib/python3.10/dist-packages (from anyio<5,>=3.5.0->anthropic[bedrock]) (1.2.2)\n",
            "Requirement already satisfied: jmespath<2.0.0,>=0.7.1 in /usr/local/lib/python3.10/dist-packages (from boto3>=1.28.57->anthropic[bedrock]) (1.0.1)\n",
            "Requirement already satisfied: s3transfer<0.11.0,>=0.10.0 in /usr/local/lib/python3.10/dist-packages (from boto3>=1.28.57->anthropic[bedrock]) (0.10.4)\n",
            "Requirement already satisfied: python-dateutil<3.0.0,>=2.1 in /usr/local/lib/python3.10/dist-packages (from botocore>=1.31.57->anthropic[bedrock]) (2.8.2)\n",
            "Requirement already satisfied: urllib3!=2.2.0,<3,>=1.25.4 in /usr/local/lib/python3.10/dist-packages (from botocore>=1.31.57->anthropic[bedrock]) (2.2.3)\n",
            "Requirement already satisfied: certifi in /usr/local/lib/python3.10/dist-packages (from httpx<1,>=0.23.0->anthropic[bedrock]) (2024.12.14)\n",
            "Requirement already satisfied: httpcore==1.* in /usr/local/lib/python3.10/dist-packages (from httpx<1,>=0.23.0->anthropic[bedrock]) (1.0.7)\n",
            "Requirement already satisfied: h11<0.15,>=0.13 in /usr/local/lib/python3.10/dist-packages (from httpcore==1.*->httpx<1,>=0.23.0->anthropic[bedrock]) (0.14.0)\n",
            "Requirement already satisfied: annotated-types>=0.6.0 in /usr/local/lib/python3.10/dist-packages (from pydantic<3,>=1.9.0->anthropic[bedrock]) (0.7.0)\n",
            "Requirement already satisfied: pydantic-core==2.27.1 in /usr/local/lib/python3.10/dist-packages (from pydantic<3,>=1.9.0->anthropic[bedrock]) (2.27.1)\n",
            "Requirement already satisfied: six>=1.5 in /usr/local/lib/python3.10/dist-packages (from python-dateutil<3.0.0,>=2.1->botocore>=1.31.57->anthropic[bedrock]) (1.17.0)\n",
            "Requirement already satisfied: pyyaml in /usr/local/lib/python3.10/dist-packages (6.0.2)\n"
          ]
        }
      ],
      "source": [
        "#Install anthropic library for bedrock\n",
        "#Install pyyaml to read secrets\n",
        "!pip install -U \"anthropic[bedrock]\"\n",
        "!pip install pyyaml\n",
        "\n",
        "\n",
        "\n",
        "\n",
        "\n"
      ]
    },
    {
      "cell_type": "code",
      "execution_count": 9,
      "metadata": {
        "id": "AFl9Uw0M7RiQ"
      },
      "outputs": [],
      "source": [
        "#Create a custom secrets.yaml file, git ignores this file\n",
        "from pathlib import Path\n",
        "file_path = Path(\"secrets.yaml\")\n",
        "if not file_path.exists():\n",
        "\n",
        "  print(\"Requesting your Amazon Credentials\")\n",
        "  print(\"Please input your Access key\")\n",
        "  access_key=input()\n",
        "  print(\"Please input your Secret key\")\n",
        "  secret_key=input()\n",
        "  with open('secrets.yaml', 'w') as f:\n",
        "    f.write(f'''\n",
        "  AMZ_SECRET_KEY: {secret_key}\n",
        "  AMZ_SECRET_ACCESS_KEY: {access_key}\n",
        "  ''')"
      ]
    },
    {
      "cell_type": "code",
      "execution_count": 10,
      "metadata": {
        "id": "YvdwQJ2IyjhU"
      },
      "outputs": [],
      "source": [
        "#Read your API secrets\n",
        "\n",
        "import yaml\n",
        "if file_path.exists():\n",
        "  with open('secrets.yaml', 'r') as f:\n",
        "    secrets = (yaml.safe_load(f))\n"
      ]
    },
    {
      "cell_type": "code",
      "execution_count": 12,
      "metadata": {
        "colab": {
          "base_uri": "https://localhost:8080/"
        },
        "id": "gyVuOyMIvpVD",
        "outputId": "dad47fe4-d18f-4d05-8531-7853c9ab733e"
      },
      "outputs": [
        {
          "name": "stdout",
          "output_type": "stream",
          "text": [
            "Your message to Claude Sonnet:\n"
          ]
        },
        {
          "name": "stdout",
          "output_type": "stream",
          "text": [
            "Sending message to Anthropic...\n",
            "Building a simple AI agent can be a great way to learn about artificial intelligence and get hands-on experience with programming and machine learning concepts. Here's a high-level overview of the steps you can follow to build a simple AI agent:\n",
            "\n",
            "1. Choose a problem domain: Decide on a specific task or problem that your AI agent will tackle. A good starting point could be a simple game like Tic-Tac-Toe or a maze-solving problem.\n",
            "\n",
            "2. Represent the problem: Define the state representation for your problem, which includes the current state of the environment and any relevant information required for decision-making.\n",
            "\n",
            "3. Choose an AI algorithm: Select an appropriate AI algorithm or technique for your agent. For simple problems, you could start with classical AI algorithms like depth-first search, breadth-first search, or A* search for pathfinding problems. For game-playing agents, you could explore minimax algorithms or reinforcement learning techniques like Q-learning.\n",
            "\n",
            "4. Implement the algorithm: Write code to implement the chosen algorithm. You can use programming languages like Python, which has several libraries like NumPy and Pandas for data manipulation, and frameworks like TensorFlow or PyTorch for building machine learning models.\n",
            "\n",
            "5. Define the environment: Create a simulation environment or interface where your agent can interact with the problem. This could be a simple text-based environment or a graphical user interface (GUI) using libraries like Pygame or Tkinter.\n",
            "\n",
            "6. Train and test the agent: If you're using a machine learning algorithm, you'll need to train your agent by providing it with training data or letting it interact with the environment and learn from its experiences. After training, test your agent's performance on unseen scenarios or against other agents.\n",
            "\n",
            "7. Evaluate and improve: Analyze your agent's performance, identify areas for improvement, and iterate on the design and implementation.\n",
            "\n",
            "Some resources that can help you get started:\n",
            "\n",
            "1. Python libraries like NumPy, Pandas, and Scikit-learn for data manipulation and machine learning.\n",
            "2. Reinforcement learning libraries like OpenAI Gym and RLlib.\n",
            "3. Game development libraries like Pygame or Tkinter for creating environments.\n",
            "4. Online courses and tutorials on AI algorithms, machine learning, and reinforcement learning.\n",
            "\n",
            "Building a simple AI agent can be a rewarding learning experience and can serve as a stepping stone to more complex AI projects in the future.\n"
          ]
        }
      ],
      "source": [
        "from anthropic import AnthropicBedrock\n",
        "\n",
        "client = AnthropicBedrock(\n",
        "    # Authenticate by either providing the keys below or use the default AWS credential providers, such as\n",
        "    # using ~/.aws/credentials or the \"AWS_SECRET_ACCESS_KEY\" and \"AWS_ACCESS_KEY_ID\" environment variables.\n",
        "    aws_access_key=secrets[\"AMZ_SECRET_ACCESS_KEY\"],\n",
        "    aws_secret_key=secrets[\"AMZ_SECRET_KEY\"],\n",
        "    # Temporary credentials can be used with aws_session_token.\n",
        "    # Read more at https://docs.aws.amazon.com/IAM/latest/UserGuide/id_credentials_temp.html.\n",
        "    # aws_region changes the aws region to which the request is made. By default, we read AWS_REGION,\n",
        "    # and if that's not present, we default to us-east-1. Note that we do not read ~/.aws/config for the region.\n",
        "    aws_region=\"us-east-1\",\n",
        ")\n",
        "\n",
        "print(\"Your message to Claude Sonnet:\")\n",
        "msg = input()\n",
        "print(\"Sending message to Anthropic...\")\n",
        "\n",
        "message = client.messages.create(\n",
        "    #Anthropic model to use\n",
        "    model=\"anthropic.claude-3-sonnet-20240229-v1:0\",\n",
        "    #Number of maximum tokens\n",
        "    max_tokens=1024,\n",
        "    #List of messages, if\n",
        "    messages=[{\"role\": \"user\", \"content\": msg}]\n",
        ")\n",
        "\n",
        "print(message.content[0].text)"
      ]
    }
  ],
  "metadata": {
    "colab": {
      "provenance": []
    },
    "kernelspec": {
      "display_name": "Python 3",
      "name": "python3"
    },
    "language_info": {
      "codemirror_mode": {
        "name": "ipython",
        "version": 3
      },
      "file_extension": ".py",
      "mimetype": "text/x-python",
      "name": "python",
      "nbconvert_exporter": "python",
      "pygments_lexer": "ipython3",
      "version": "3.11.10"
    }
  },
  "nbformat": 4,
  "nbformat_minor": 0
}
